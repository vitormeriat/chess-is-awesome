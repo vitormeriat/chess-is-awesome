{
 "cells": [
  {
   "cell_type": "code",
   "execution_count": 19,
   "metadata": {},
   "outputs": [],
   "source": [
    "import pandas as pd\n",
    "import numpy as np\n",
    "import chess.pgn\n",
    "import chess\n",
    "import os\n",
    "import io\n",
    "\n",
    "import uuid"
   ]
  },
  {
   "cell_type": "code",
   "execution_count": 20,
   "metadata": {},
   "outputs": [],
   "source": [
    "def list_to_pgn(lines: list) -> io.TextIOWrapper:\n",
    "    \"\"\"Converte uma lista de strings para um TextIOWrapper\n",
    "    \"\"\"\n",
    "    output = io.BytesIO()\n",
    "    wrapper = io.TextIOWrapper(\n",
    "        output,\n",
    "        encoding='cp1252',\n",
    "        line_buffering=True,\n",
    "    )\n",
    "    for l in lines:\n",
    "        wrapper.write(l)\n",
    "    wrapper.seek(0, 0)\n",
    "    return wrapper\n",
    "\n",
    "\n",
    "def get_board_features(board: chess.Board):\n",
    "    return [str(board.piece_at(square)) for square in chess.SQUARES]\n",
    "\n",
    "\n",
    "def get_move_features(move: chess.Move):\n",
    "    from_ = np.zeros(64)\n",
    "    to_ = np.zeros(64)\n",
    "    from_[move.from_square] = 1\n",
    "    to_[move.to_square] = 1\n",
    "    return from_, to_\n",
    "\n",
    "\n",
    "def play(board: chess.Board, game_moves: list, white_won: bool, nb_moves=0):\n",
    "\n",
    "    if (nb_moves == len(game_moves)):\n",
    "        return\n",
    "    if ((white_won and board.turn) or (not white_won and not board.turn)):\n",
    "        _extracted_from_play_7(board, nb_moves)\n",
    "    board.push(game_moves[nb_moves])\n",
    "    return play(board=board,\n",
    "                game_moves=game_moves,\n",
    "                white_won=white_won,\n",
    "                nb_moves=nb_moves + 1)\n",
    "\n",
    "\n",
    "# TODO Rename this here and in `play`\n",
    "def _extracted_from_play_7(board: chess.Board, nb_moves: int, game_moves: list, data: list):\n",
    "    legal_moves = list(board.legal_moves)\n",
    "    good_move = game_moves[nb_moves]\n",
    "    bad_moves = list(filter(lambda x: x != good_move, legal_moves))\n",
    "\n",
    "    board_features = get_board_features(board)\n",
    "    line = np.array([], dtype=object)\n",
    "    # append bad moves to data\n",
    "    for move in bad_moves:\n",
    "        from_square, to_square = get_move_features(move)\n",
    "        line = np.concatenate(\n",
    "            (board_features, from_square, to_square, [False]))\n",
    "        data.append(line)\n",
    "\n",
    "    # append good move to data\n",
    "    from_square, to_square = get_move_features(good_move)\n",
    "    line = np.concatenate((board_features, from_square, to_square, [True]))\n",
    "    data.append(line)"
   ]
  },
  {
   "cell_type": "code",
   "execution_count": 21,
   "metadata": {},
   "outputs": [
    {
     "data": {
      "text/plain": [
       "2508"
      ]
     },
     "execution_count": 21,
     "metadata": {},
     "output_type": "execute_result"
    }
   ],
   "source": [
    "pgns = []\n",
    "game=[]\n",
    "count = 0\n",
    "with open('../data/garry-kasparov-2508.pgn') as fp:\n",
    "    while True:\n",
    "        count += 1\n",
    "        line = fp.readline()\n",
    "\n",
    "        if '[Event ' in line and count > 5:\n",
    "            pgns.append(game)\n",
    "            game = []\n",
    "        game.append(line)\n",
    " \n",
    "        if not line:\n",
    "            pgns.append(game)\n",
    "            break\n",
    "\n",
    "len(pgns)"
   ]
  },
  {
   "cell_type": "code",
   "execution_count": 16,
   "metadata": {},
   "outputs": [
    {
     "data": {
      "text/plain": [
       "<Game at 0x7fbd090166a0 ('Vachier Lagrave, M.' vs. 'Kasparov, G.', '2011/09/17' at 'Clichy FRA')>"
      ]
     },
     "execution_count": 16,
     "metadata": {},
     "output_type": "execute_result"
    }
   ],
   "source": [
    "game = chess.pgn.read_game(list_to_pgn(lines=pgns[-1]))\n",
    "game"
   ]
  },
  {
   "cell_type": "code",
   "execution_count": 22,
   "metadata": {},
   "outputs": [],
   "source": [
    "def process_game(game: list):\n",
    "    game = chess.pgn.read_game(list_to_pgn(lines=game))\n",
    "\n",
    "    result = {'1-0': True, '1/2-1/2': None, '0-1': False}[game.headers['Result']]\n",
    "\n",
    "    data = []\n",
    "\n",
    "    if (result is None):\n",
    "        return\n",
    "    elif (result):\n",
    "        white_won = True\n",
    "    else:\n",
    "        white_won = False\n",
    "\n",
    "    game_moves = list(game.mainline_moves())\n",
    "    board = game.board()\n",
    "\n",
    "    play(board, game_moves=game_moves, white_won=white_won)\n",
    "\n",
    "    board_feature_names = chess.SQUARE_NAMES\n",
    "    move_from_feature_names = [f'from_{square}' for square in chess.SQUARE_NAMES]\n",
    "    move_to_feature_names = [f'to_{square}' for square in chess.SQUARE_NAMES]\n",
    "\n",
    "    columns = (\n",
    "        board_feature_names\n",
    "        + move_from_feature_names\n",
    "        + move_to_feature_names\n",
    "        + ['good_move']\n",
    "    )\n",
    "\n",
    "    df = pd.DataFrame(data=data, columns=columns)\n",
    "    print(df.shape)\n",
    "\n",
    "    # new_filename = filename.replace('pgn', 'csv')\n",
    "    # new_dirname = './data/CSV_BOTVINNIK'\n",
    "    new_path = os.path.join('./data', f'{str(uuid.uuid4)}.csv')\n",
    "\n",
    "    df.to_csv(new_path, index=False)"
   ]
  },
  {
   "cell_type": "code",
   "execution_count": 25,
   "metadata": {},
   "outputs": [
    {
     "ename": "TypeError",
     "evalue": "play() missing 1 required positional argument: 'white_won'",
     "output_type": "error",
     "traceback": [
      "\u001b[0;31m---------------------------------------------------------------------------\u001b[0m",
      "\u001b[0;31mTypeError\u001b[0m                                 Traceback (most recent call last)",
      "\u001b[1;32m/home/meriat/development/research/chess-is-awesome/chess_ml/data.ipynb Cell 6\u001b[0m line \u001b[0;36m2\n\u001b[1;32m      <a href='vscode-notebook-cell://wsl%2Bubuntu/home/meriat/development/research/chess-is-awesome/chess_ml/data.ipynb#W3sdnNjb2RlLXJlbW90ZQ%3D%3D?line=0'>1</a>\u001b[0m \u001b[39mfor\u001b[39;00m pgn \u001b[39min\u001b[39;00m pgns:\n\u001b[0;32m----> <a href='vscode-notebook-cell://wsl%2Bubuntu/home/meriat/development/research/chess-is-awesome/chess_ml/data.ipynb#W3sdnNjb2RlLXJlbW90ZQ%3D%3D?line=1'>2</a>\u001b[0m     process_game(game\u001b[39m=\u001b[39;49mpgn)\n",
      "\u001b[1;32m/home/meriat/development/research/chess-is-awesome/chess_ml/data.ipynb Cell 6\u001b[0m line \u001b[0;36m1\n\u001b[1;32m     <a href='vscode-notebook-cell://wsl%2Bubuntu/home/meriat/development/research/chess-is-awesome/chess_ml/data.ipynb#W3sdnNjb2RlLXJlbW90ZQ%3D%3D?line=14'>15</a>\u001b[0m game_moves \u001b[39m=\u001b[39m \u001b[39mlist\u001b[39m(game\u001b[39m.\u001b[39mmainline_moves())\n\u001b[1;32m     <a href='vscode-notebook-cell://wsl%2Bubuntu/home/meriat/development/research/chess-is-awesome/chess_ml/data.ipynb#W3sdnNjb2RlLXJlbW90ZQ%3D%3D?line=15'>16</a>\u001b[0m board \u001b[39m=\u001b[39m game\u001b[39m.\u001b[39mboard()\n\u001b[0;32m---> <a href='vscode-notebook-cell://wsl%2Bubuntu/home/meriat/development/research/chess-is-awesome/chess_ml/data.ipynb#W3sdnNjb2RlLXJlbW90ZQ%3D%3D?line=17'>18</a>\u001b[0m play(board, game_moves\u001b[39m=\u001b[39;49mgame_moves, white_won\u001b[39m=\u001b[39;49mwhite_won)\n\u001b[1;32m     <a href='vscode-notebook-cell://wsl%2Bubuntu/home/meriat/development/research/chess-is-awesome/chess_ml/data.ipynb#W3sdnNjb2RlLXJlbW90ZQ%3D%3D?line=19'>20</a>\u001b[0m board_feature_names \u001b[39m=\u001b[39m chess\u001b[39m.\u001b[39mSQUARE_NAMES\n\u001b[1;32m     <a href='vscode-notebook-cell://wsl%2Bubuntu/home/meriat/development/research/chess-is-awesome/chess_ml/data.ipynb#W3sdnNjb2RlLXJlbW90ZQ%3D%3D?line=20'>21</a>\u001b[0m move_from_feature_names \u001b[39m=\u001b[39m [\u001b[39mf\u001b[39m\u001b[39m'\u001b[39m\u001b[39mfrom_\u001b[39m\u001b[39m{\u001b[39;00msquare\u001b[39m}\u001b[39;00m\u001b[39m'\u001b[39m \u001b[39mfor\u001b[39;00m square \u001b[39min\u001b[39;00m chess\u001b[39m.\u001b[39mSQUARE_NAMES]\n",
      "\u001b[1;32m/home/meriat/development/research/chess-is-awesome/chess_ml/data.ipynb Cell 6\u001b[0m line \u001b[0;36m3\n\u001b[1;32m     <a href='vscode-notebook-cell://wsl%2Bubuntu/home/meriat/development/research/chess-is-awesome/chess_ml/data.ipynb#W3sdnNjb2RlLXJlbW90ZQ%3D%3D?line=31'>32</a>\u001b[0m     _extracted_from_play_7(board, nb_moves)\n\u001b[1;32m     <a href='vscode-notebook-cell://wsl%2Bubuntu/home/meriat/development/research/chess-is-awesome/chess_ml/data.ipynb#W3sdnNjb2RlLXJlbW90ZQ%3D%3D?line=32'>33</a>\u001b[0m board\u001b[39m.\u001b[39mpush(game_moves[nb_moves])\n\u001b[0;32m---> <a href='vscode-notebook-cell://wsl%2Bubuntu/home/meriat/development/research/chess-is-awesome/chess_ml/data.ipynb#W3sdnNjb2RlLXJlbW90ZQ%3D%3D?line=33'>34</a>\u001b[0m \u001b[39mreturn\u001b[39;00m play(board, nb_moves \u001b[39m+\u001b[39;49m \u001b[39m1\u001b[39;49m)\n",
      "\u001b[0;31mTypeError\u001b[0m: play() missing 1 required positional argument: 'white_won'"
     ]
    }
   ],
   "source": [
    "for pgn in pgns:\n",
    "    process_game(game=pgn)"
   ]
  },
  {
   "cell_type": "code",
   "execution_count": null,
   "metadata": {},
   "outputs": [],
   "source": []
  }
 ],
 "metadata": {
  "kernelspec": {
   "display_name": ".venv",
   "language": "python",
   "name": "python3"
  },
  "language_info": {
   "codemirror_mode": {
    "name": "ipython",
    "version": 3
   },
   "file_extension": ".py",
   "mimetype": "text/x-python",
   "name": "python",
   "nbconvert_exporter": "python",
   "pygments_lexer": "ipython3",
   "version": "3.10.12"
  }
 },
 "nbformat": 4,
 "nbformat_minor": 2
}
