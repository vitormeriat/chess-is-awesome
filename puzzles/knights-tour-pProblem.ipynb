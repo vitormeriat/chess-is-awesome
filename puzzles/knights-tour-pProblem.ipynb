{
 "cells": [
  {
   "cell_type": "markdown",
   "id": "cc2817e7",
   "metadata": {},
   "source": [
    "# Problema do Passeio do Cavalo\n",
    "\n",
    "O problema do passeio do cavalo consiste em encontrar uma sequência de movimentos de um cavalo em um tabuleiro de xadrez de forma que o cavalo visite cada casa exatamente uma vez.\n",
    "\n",
    "## História do Problema\n",
    "\n",
    "### Cronologia Histórica\n",
    "- **Século IX**: Primeiras referências na literatura árabe\n",
    "- **1759**: Leonhard Euler publicou análise matemática\n",
    "- **1823**: H. C. Warnsdorff desenvolveu algoritmo heurístico\n",
    "- **1991**: A. J. Schwenk provou condições de existência\n",
    "- **2003**: M. H. Martin publicou \"The Knight's Tour Problem\" com análise computacional\n",
    "\n",
    "### Referências Bibliográficas\n",
    "\n",
    "#### Livros Clássicos\n",
    "- **\"Mathematical Recreations and Essays\"** - W. W. Rouse Ball (1892)\n",
    "- **\"Chess and Mathematics\"** - D. J. C. Babbage (1984)\n",
    "- **\"The Knight's Tour Problem\"** - Martin, M.H. (2003)\n",
    "\n",
    "#### Artigos Acadêmicos\n",
    "- **\"Solution d'une question curieuse qui ne paroit soumise à aucune analyse\"** - Euler, L. (1759)\n",
    "- **\"Des Rösselsprungs einfachste und allgemeinste Lösung\"** - Warnsdorff, H.C. (1823)\n",
    "- **\"Which Rectangular Chessboards Have a Knight's Tour?\"** - Schwenk, A.J. (1991)\n",
    "\n",
    "#### Recursos Online\n",
    "- [Knight's Tour on Wikipedia](https://en.wikipedia.org/wiki/Knight%27s_tour)\n",
    "- [Chess.com Knight's Tour](https://www.chess.com/terms/knights-tour)\n",
    "- [Lichess Knight's Tour](https://lichess.org/training/knight-tour)\n",
    "\n",
    "---\n",
    "\n",
    "## Implementação\n",
    "\n",
    "Esta implementação utiliza o algoritmo de Warnsdorff para encontrar soluções eficientemente.\n"
   ]
  }
 ],
 "metadata": {
  "language_info": {
   "name": "python"
  }
 },
 "nbformat": 4,
 "nbformat_minor": 5
}
