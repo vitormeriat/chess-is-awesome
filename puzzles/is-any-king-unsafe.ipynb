{
 "cells": [
  {
   "cell_type": "code",
   "execution_count": null,
   "metadata": {},
   "outputs": [],
   "source": [
    "# Verificação de Segurança do Rei em Xadrez\n",
    "\n",
    "Este notebook implementa algoritmos para verificar se um rei está em segurança (não está em xeque) em posições específicas do xadrez.\n",
    "\n",
    "## Referências Bibliográficas\n",
    "\n",
    "### Livros Clássicos\n",
    "- **\"Chess and Mathematics\"** - D. J. C. Babbage (1984)\n",
    "- **\"Chess Endgame Analysis\"** - Thompson, K. (1986)\n",
    "- **\"Basic Chess Endings\"** - Fine, R. (1941)\n",
    "\n",
    "### Artigos Acadêmicos\n",
    "- **\"Chess Endgame Analysis\"** - Thompson, K. (1986)\n",
    "- **\"Computer Analysis of Chess Endgames\"** - Nalimov, E. (1999)\n",
    "\n",
    "### Recursos Online\n",
    "- [Chess.com King Safety](https://www.chess.com/terms/king-safety)\n",
    "- [Lichess King Safety](https://lichess.org/training/king-safety)\n",
    "- [ChessBase King Safety](https://en.chessbase.com/)\n",
    "\n",
    "---"
   ]
  },
  {
   "cell_type": "code",
   "execution_count": null,
   "metadata": {},
   "outputs": [],
   "source": [
    "# Importações necessárias\n",
    "import chess\n",
    "import chess.svg\n",
    "import chess.engine\n",
    "from IPython.display import SVG, display\n",
    "import matplotlib.pyplot as plt\n",
    "import numpy as np\n",
    "from typing import List, Tuple, Optional, Dict\n",
    "import time\n",
    "\n",
    "print(\"Bibliotecas importadas com sucesso!\")\n",
    "print(f\"Versão do python-chess: {chess.__version__}\")\n"
   ]
  },
  {
   "cell_type": "markdown",
   "metadata": {},
   "source": [
    "## Implementação da Verificação de Segurança do Rei\n",
    "\n",
    "Esta implementação verifica se um rei está em xeque (atacado) por peças adversárias.\n"
   ]
  },
  {
   "cell_type": "code",
   "execution_count": null,
   "metadata": {},
   "outputs": [],
   "source": [
    "class KingSafetyChecker:\n",
    "    \"\"\"Classe para verificar a segurança do rei em posições de xadrez\"\"\"\n",
    "    \n",
    "    def __init__(self):\n",
    "        self.piece_map = {\n",
    "            \"k\": \"♔\", \"q\": \"♕\", \"r\": \"♖\", \"b\": \"♗\", \"n\": \"♘\", \"p\": \"♙\",\n",
    "            \"K\": \"♚\", \"Q\": \"♛\", \"R\": \"♜\", \"B\": \"♝\", \"N\": \"♞\", \"P\": \"♟\"\n",
    "        }\n",
    "    \n",
    "    def is_king_in_check(self, board: chess.Board, color: chess.Color) -> bool:\n",
    "        \"\"\"Verifica se o rei de uma cor específica está em xeque\"\"\"\n",
    "        return board.is_check()\n",
    "    \n",
    "    def is_king_safe(self, board: chess.Board, color: chess.Color) -> bool:\n",
    "        \"\"\"Verifica se o rei de uma cor específica está seguro (não em xeque)\"\"\"\n",
    "        return not board.is_check()\n",
    "    \n",
    "    def get_attacking_pieces(self, board: chess.Board, target_square: chess.Square) -> List[chess.Square]:\n",
    "        \"\"\"Retorna todas as peças que atacam um quadrado específico\"\"\"\n",
    "        attacking_pieces = []\n",
    "        \n",
    "        for square in chess.SQUARES:\n",
    "            piece = board.piece_at(square)\n",
    "            if piece and piece.color != board.turn:\n",
    "                # Verificar se a peça pode atacar o quadrado alvo\n",
    "                if self.can_attack_square(board, square, target_square):\n",
    "                    attacking_pieces.append(square)\n",
    "        \n",
    "        return attacking_pieces\n",
    "    \n",
    "    def can_attack_square(self, board: chess.Board, attacker_square: chess.Square, target_square: chess.Square) -> bool:\n",
    "        \"\"\"Verifica se uma peça pode atacar um quadrado específico\"\"\"\n",
    "        piece = board.piece_at(attacker_square)\n",
    "        if not piece:\n",
    "            return False\n",
    "        \n",
    "        # Verificar se a peça pode se mover para o quadrado alvo\n",
    "        try:\n",
    "            # Criar um movimento temporário para verificar\n",
    "            move = chess.Move(attacker_square, target_square)\n",
    "            return board.is_legal(move)\n",
    "        except:\n",
    "            return False\n",
    "    \n",
    "    def analyze_king_safety(self, board: chess.Board) -> Dict[str, any]:\n",
    "        \"\"\"Analisa a segurança dos reis em uma posição\"\"\"\n",
    "        white_king_safe = self.is_king_safe(board, chess.WHITE)\n",
    "        black_king_safe = self.is_king_safe(board, chess.BLACK)\n",
    "        \n",
    "        white_king_square = board.king(chess.WHITE)\n",
    "        black_king_square = board.king(chess.BLACK)\n",
    "        \n",
    "        white_attackers = self.get_attacking_pieces(board, white_king_square) if white_king_square else []\n",
    "        black_attackers = self.get_attacking_pieces(board, black_king_square) if black_king_square else []\n",
    "        \n",
    "        return {\n",
    "            \"white_king_safe\": white_king_safe,\n",
    "            \"black_king_safe\": black_king_safe,\n",
    "            \"white_king_square\": white_king_square,\n",
    "            \"black_king_square\": black_king_square,\n",
    "            \"white_attackers\": white_attackers,\n",
    "            \"black_attackers\": black_attackers,\n",
    "            \"white_in_check\": not white_king_safe,\n",
    "            \"black_in_check\": not black_king_safe\n",
    "        }\n",
    "\n",
    "# Criar instância do verificador\n",
    "safety_checker = KingSafetyChecker()\n",
    "print(\"Verificador de Segurança do Rei criado com sucesso!\")\n"
   ]
  },
  {
   "cell_type": "code",
   "execution_count": null,
   "metadata": {},
   "outputs": [],
   "source": [
    "# Exemplo 1: Posição inicial (ambos os reis seguros)\n",
    "board = chess.Board()\n",
    "print(\"Posição inicial:\")\n",
    "print(board)\n",
    "print(f\"Rei branco seguro: {safety_checker.is_king_safe(board, chess.WHITE)}\")\n",
    "print(f\"Rei preto seguro: {safety_checker.is_king_safe(board, chess.BLACK)}\")\n",
    "\n",
    "# Análise completa\n",
    "analysis = safety_checker.analyze_king_safety(board)\n",
    "print(f\"\\nAnálise completa:\")\n",
    "print(f\"Rei branco em xeque: {analysis['white_in_check']}\")\n",
    "print(f\"Rei preto em xeque: {analysis['black_in_check']}\")\n",
    "print(f\"Posição do rei branco: {chess.square_name(analysis['white_king_square'])}\")\n",
    "print(f\"Posição do rei preto: {chess.square_name(analysis['black_king_square'])}\")\n",
    "\n",
    "# Exibir o tabuleiro\n",
    "display(SVG(chess.svg.board(board, size=400)))\n"
   ]
  },
  {
   "cell_type": "code",
   "execution_count": null,
   "metadata": {},
   "outputs": [],
   "source": [
    "# Exemplo 2: Posição com rei em xeque\n",
    "def create_check_position():\n",
    "    \"\"\"Cria uma posição onde o rei está em xeque\"\"\"\n",
    "    board = chess.Board()\n",
    "    \n",
    "    # Movimentos para criar uma posição de xeque\n",
    "    moves = [\n",
    "        \"e4\", \"e5\",      # 1. e4 e5\n",
    "        \"Qh5\", \"Nc6\",    # 2. Qh5 Nc6\n",
    "        \"Bc4\", \"Nf6\",    # 3. Bc4 Nf6\n",
    "        \"Qxf7\"           # 4. Qxf7# (mate)\n",
    "    ]\n",
    "    \n",
    "    for move in moves:\n",
    "        board.push_san(move)\n",
    "    \n",
    "    return board\n",
    "\n",
    "# Criar posição de xeque\n",
    "check_board = create_check_position()\n",
    "print(\"Posição com rei em xeque:\")\n",
    "print(check_board)\n",
    "print(f\"Rei branco seguro: {safety_checker.is_king_safe(check_board, chess.WHITE)}\")\n",
    "print(f\"Rei preto seguro: {safety_checker.is_king_safe(check_board, chess.BLACK)}\")\n",
    "\n",
    "# Análise completa\n",
    "analysis = safety_checker.analyze_king_safety(check_board)\n",
    "print(f\"\\nAnálise completa:\")\n",
    "print(f\"Rei branco em xeque: {analysis['white_in_check']}\")\n",
    "print(f\"Rei preto em xeque: {analysis['black_in_check']}\")\n",
    "print(f\"É mate? {check_board.is_checkmate()}\")\n",
    "print(f\"É xeque? {check_board.is_check()}\")\n",
    "\n",
    "# Exibir o tabuleiro\n",
    "display(SVG(chess.svg.board(check_board, size=400)))\n"
   ]
  },
  {
   "cell_type": "code",
   "execution_count": 2,
   "metadata": {},
   "outputs": [
    {
     "data": {
      "text/plain": [
       "'♗'"
      ]
     },
     "execution_count": 2,
     "metadata": {},
     "output_type": "execute_result"
    }
   ],
   "source": [
    "piece_map[\"b\"]"
   ]
  },
  {
   "cell_type": "code",
   "execution_count": null,
   "metadata": {},
   "outputs": [],
   "source": []
  }
 ],
 "metadata": {
  "kernelspec": {
   "display_name": ".venv",
   "language": "python",
   "name": "python3"
  },
  "language_info": {
   "codemirror_mode": {
    "name": "ipython",
    "version": 3
   },
   "file_extension": ".py",
   "mimetype": "text/x-python",
   "name": "python",
   "nbconvert_exporter": "python",
   "pygments_lexer": "ipython3",
   "version": "3.10.12"
  }
 },
 "nbformat": 4,
 "nbformat_minor": 4
}
