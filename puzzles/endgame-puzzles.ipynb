{
  "cells": [
    {
      "cell_type": "markdown",
      "metadata": {},
      "source": [
        "# Puzzles de Final em Xadrez\n",
        "\n",
        "Este notebook contém uma coleção de puzzles famosos de final de jogo, com implementações em Python e referências históricas detalhadas.\n",
        "\n",
        "## Referências Bibliográficas\n",
        "\n",
        "### Livros Clássicos\n",
        "- **\"Chess Endgames\"** - Averbakh, Y. (1980)\n",
        "- **\"Fundamental Chess Endings\"** - Müller, K. & Lamprecht, F. (2001)\n",
        "- **\"Chess Endgame Analysis\"** - Thompson, K. (1986)\n",
        "- **\"Basic Chess Endings\"** - Fine, R. (1941)\n",
        "\n",
        "### Artigos Acadêmicos\n",
        "- **\"Computer Analysis of Chess Endgames\"** - Nalimov, E. (1999)\n",
        "- **\"Chess Endgame Analysis\"** - Thompson, K. (1986)\n",
        "- **\"Endgame Tablebases\"** - Nalimov, E. (1999)\n",
        "\n",
        "### Recursos Online\n",
        "- [Chess.com Endgame Database](https://www.chess.com/endgame)\n",
        "- [Lichess Endgame Training](https://lichess.org/training/endgame)\n",
        "- [ChessBase Endgame Database](https://en.chessbase.com/)\n",
        "\n",
        "---\n"
      ]
    },
    {
      "cell_type": "code",
      "execution_count": null,
      "metadata": {},
      "outputs": [],
      "source": [
        "# Importações necessárias\n",
        "import chess\n",
        "import chess.svg\n",
        "import chess.engine\n",
        "from IPython.display import SVG, display\n",
        "import matplotlib.pyplot as plt\n",
        "import numpy as np\n",
        "from typing import List, Tuple, Optional\n",
        "import time\n",
        "\n",
        "print(\"Bibliotecas importadas com sucesso!\")\n",
        "print(f\"Versão do python-chess: {chess.__version__}\")\n"
      ]
    },
    {
      "cell_type": "markdown",
      "metadata": {},
      "source": [
        "## Final 1: Rei e Torre vs Rei\n",
        "\n",
        "**História**: Um dos finals mais estudados na história do xadrez, conhecido desde o século XV.\n",
        "\n",
        "**Referência**: \n",
        "- **\"Basic Chess Endings\"** - Fine, R. (1941)\n",
        "- **\"Fundamental Chess Endings\"** - Müller, K. & Lamprecht, F. (2001)\n",
        "\n",
        "**Objetivo**: As brancas devem dar mate ao rei preto usando a torre e o rei.\n"
      ]
    },
    {
      "cell_type": "code",
      "execution_count": null,
      "metadata": {},
      "outputs": [],
      "source": [
        "# Final 1: Rei e Torre vs Rei\n",
        "def create_king_rook_vs_king_position():\n",
        "    \"\"\"Cria uma posição típica de Rei e Torre vs Rei\"\"\"\n",
        "    board = chess.Board()\n",
        "    \n",
        "    # Posicionar as peças\n",
        "    board.set_piece_at(chess.E1, chess.Piece(chess.KING, chess.WHITE))  # Rei branco\n",
        "    board.set_piece_at(chess.H1, chess.Piece(chess.ROOK, chess.WHITE))  # Torre branca\n",
        "    board.set_piece_at(chess.E8, chess.Piece(chess.KING, chess.BLACK))  # Rei preto\n",
        "    \n",
        "    # Remover todas as outras peças\n",
        "    for square in chess.SQUARES:\n",
        "        if square not in [chess.E1, chess.H1, chess.E8]:\n",
        "            board.remove_piece_at(square)\n",
        "    \n",
        "    return board\n",
        "\n",
        "# Criar e exibir a posição\n",
        "board = create_king_rook_vs_king_position()\n",
        "print(\"Posição: Rei e Torre vs Rei\")\n",
        "print(board)\n",
        "print(f\"\\nÉ mate? {board.is_checkmate()}\")\n",
        "print(f\"É xeque? {board.is_check()}\")\n",
        "\n",
        "# Exibir o tabuleiro\n",
        "display(SVG(chess.svg.board(board, size=400)))\n"
      ]
    }
  ],
  "metadata": {
    "language_info": {
      "name": "python"
    }
  },
  "nbformat": 4,
  "nbformat_minor": 2
}
